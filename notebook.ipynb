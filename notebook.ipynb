{
 "cells": [
  {
   "attachments": {},
   "cell_type": "markdown",
   "metadata": {},
   "source": [
    "# Google Play Store apps and reviews\n",
    "\n",
    "Mobile apps are everywhere. They are easy to create and can be lucrative. Because of these two factors, more and more apps are being developed. In this notebook, we will do a comprehensive analysis of the Android app market by comparing over ten thousand apps in Google Play across different categories. We'll look for insights in the data to devise strategies to drive growth and retention.\n",
    "\n",
    "## Data Files\n",
    "\n",
    "- apps.csv: contains all the details of the applications on Google Play. There are 13 features that describe a given app.\n",
    "- user_reviews.csv: contains 100 reviews for each app, most helpful first. The text in each review has been pre-processed and attributed with three new features: Sentiment (Positive, Negative or Neutral), Sentiment Polarity and Sentiment Subjectivity."
   ]
  },
  {
   "cell_type": "code",
   "execution_count": 4,
   "metadata": {},
   "outputs": [
    {
     "name": "stdout",
     "output_type": "stream",
     "text": [
      "Total number of apps in the dataset =  9659\n",
      "   Unnamed: 0                                                App  \\\n",
      "0           0     Photo Editor & Candy Camera & Grid & ScrapBook   \n",
      "1           1                                Coloring book moana   \n",
      "2           2  U Launcher Lite – FREE Live Cool Themes, Hide ...   \n",
      "3           3                              Sketch - Draw & Paint   \n",
      "4           4              Pixel Draw - Number Art Coloring Book   \n",
      "\n",
      "         Category  Rating  Reviews  Size     Installs  Type Price  \\\n",
      "0  ART_AND_DESIGN     4.1      159  19.0      10,000+  Free     0   \n",
      "1  ART_AND_DESIGN     3.9      967  14.0     500,000+  Free     0   \n",
      "2  ART_AND_DESIGN     4.7    87510   8.7   5,000,000+  Free     0   \n",
      "3  ART_AND_DESIGN     4.5   215644  25.0  50,000,000+  Free     0   \n",
      "4  ART_AND_DESIGN     4.3      967   2.8     100,000+  Free     0   \n",
      "\n",
      "  Content Rating                     Genres      Last Updated  \\\n",
      "0       Everyone               Art & Design   January 7, 2018   \n",
      "1       Everyone  Art & Design;Pretend Play  January 15, 2018   \n",
      "2       Everyone               Art & Design    August 1, 2018   \n",
      "3           Teen               Art & Design      June 8, 2018   \n",
      "4       Everyone    Art & Design;Creativity     June 20, 2018   \n",
      "\n",
      "          Current Ver   Android Ver  \n",
      "0               1.0.0  4.0.3 and up  \n",
      "1               2.0.0  4.0.3 and up  \n",
      "2               1.2.4  4.0.3 and up  \n",
      "3  Varies with device    4.2 and up  \n",
      "4                 1.1    4.4 and up  \n"
     ]
    }
   ],
   "source": [
    "# Read in dataset\n",
    "import pandas as pd\n",
    "apps_with_duplicates = pd.read_csv('datasets/apps.csv')\n",
    "# print(apps_with_duplicates.shape[0])\n",
    "\n",
    "# Drop duplicates from apps_with_duplicates\n",
    "apps = apps_with_duplicates.drop_duplicates()\n",
    "\n",
    "# Print the total number of apps\n",
    "print('Total number of apps in the dataset = ', apps.shape[0])\n",
    "\n",
    "# Have a look at a random sample of 5 rows\n",
    "print(apps.head())"
   ]
  }
 ],
 "metadata": {
  "kernelspec": {
   "display_name": "android-app-market-erz1pYtp",
   "language": "python",
   "name": "python3"
  },
  "language_info": {
   "codemirror_mode": {
    "name": "ipython",
    "version": 3
   },
   "file_extension": ".py",
   "mimetype": "text/x-python",
   "name": "python",
   "nbconvert_exporter": "python",
   "pygments_lexer": "ipython3",
   "version": "3.10.4"
  },
  "orig_nbformat": 4,
  "vscode": {
   "interpreter": {
    "hash": "9eaa1a152bc7ef7c0d4b964588021af4d4c22cb947a2a859694e3b0ab2213d5f"
   }
  }
 },
 "nbformat": 4,
 "nbformat_minor": 2
}
